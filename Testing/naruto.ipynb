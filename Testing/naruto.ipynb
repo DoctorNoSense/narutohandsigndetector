{
 "cells": [
  {
   "cell_type": "code",
   "execution_count": 12,
   "metadata": {},
   "outputs": [
    {
     "name": "stdout",
     "output_type": "stream",
     "text": [
      "Keras version: 2.10.0\n",
      "TensorFlow version: 2.10.0\n"
     ]
    }
   ],
   "source": [
    "import os\n",
    "import keras\n",
    "import numpy as np\n",
    "import tensorflow as tf\n",
    "from tensorflow.keras import layers, models\n",
    "from keras.preprocessing.image import ImageDataGenerator\n",
    "import matplotlib.pyplot as plt\n",
    "\n",
    "print(\"Keras version:\", keras.__version__)\n",
    "print(\"TensorFlow version:\", tf.__version__)"
   ]
  },
  {
   "cell_type": "code",
   "execution_count": 13,
   "metadata": {},
   "outputs": [],
   "source": [
    "train_data_dir = 'D:/DEV/Machine Learning TensorFlow/NauroHandSigns/naruto_data/train'\n",
    "test_data_dir = 'D:/DEV/Machine Learning TensorFlow/NauroHandSigns/naruto_data/test'"
   ]
  },
  {
   "cell_type": "code",
   "execution_count": 14,
   "metadata": {},
   "outputs": [],
   "source": [
    "# Image dimensions\n",
    "img_width, img_height = 128, 128\n",
    "\n",
    "# Batch size\n",
    "batch_size = 32\n",
    "\n",
    "# Number of training and testing samples\n",
    "num_train_samples = 1200  # 12 classes * 100 samples per class\n",
    "num_test_samples = 120   # 12 classes * 10 samples per class"
   ]
  },
  {
   "cell_type": "code",
   "execution_count": 20,
   "metadata": {},
   "outputs": [
    {
     "name": "stdout",
     "output_type": "stream",
     "text": [
      "Found 1733 images belonging to 13 classes.\n",
      "Found 426 images belonging to 13 classes.\n"
     ]
    }
   ],
   "source": [
    "train_datagen = ImageDataGenerator(\n",
    "    rescale=1. / 255,\n",
    "    shear_range=0.2,\n",
    "    zoom_range=0.2,\n",
    "    horizontal_flip=True,\n",
    "    rotation_range=20,\n",
    "    validation_split=0.2 \n",
    ")\n",
    "# Rescale for testing set\n",
    "test_datagen = ImageDataGenerator(rescale=1. / 255)\n",
    "\n",
    "train_generator = train_datagen.flow_from_directory(\n",
    "    train_data_dir,\n",
    "    target_size=(img_width, img_height),\n",
    "    batch_size=batch_size,\n",
    "    class_mode='categorical',\n",
    "    subset='training' #this is for training data\n",
    ")\n",
    "\n",
    "# Generate batches of augmented data for testing\n",
    "validation_generator = train_datagen.flow_from_directory(\n",
    "    train_data_dir,\n",
    "    target_size=(img_width, img_height),\n",
    "    batch_size=batch_size,\n",
    "    class_mode='categorical',\n",
    "    subset='validation'\n",
    ")"
   ]
  },
  {
   "cell_type": "code",
   "execution_count": 21,
   "metadata": {},
   "outputs": [],
   "source": [
    "# Build the CNN model\n",
    "model = models.Sequential()\n",
    "model.add(layers.Conv2D(32, (3, 3), activation='relu', input_shape=(img_width, img_height, 3)))\n",
    "model.add(layers.MaxPooling2D((2, 2)))\n",
    "model.add(layers.Conv2D(64, (3, 3), activation='relu'))\n",
    "model.add(layers.MaxPooling2D((2, 2)))\n",
    "model.add(layers.Conv2D(128, (3, 3), activation='relu'))\n",
    "model.add(layers.MaxPooling2D((2, 2)))\n",
    "model.add(layers.Flatten())\n",
    "model.add(layers.Dense(512, activation='relu'))\n",
    "model.add(layers.Dropout(0.5))\n",
    "model.add(layers.Dense(13, activation='softmax'))  # Assuming 12 classes"
   ]
  },
  {
   "cell_type": "code",
   "execution_count": 22,
   "metadata": {},
   "outputs": [],
   "source": [
    "# Compile the model\n",
    "model.compile(optimizer='adam', loss='categorical_crossentropy', metrics=['accuracy'])"
   ]
  },
  {
   "cell_type": "code",
   "execution_count": 24,
   "metadata": {},
   "outputs": [
    {
     "name": "stdout",
     "output_type": "stream",
     "text": [
      "Epoch 1/25\n",
      "37/37 [==============================] - 30s 804ms/step - loss: 0.3775 - accuracy: 0.8868 - val_loss: 1.2839 - val_accuracy: 0.7604\n",
      "Epoch 2/25\n",
      "37/37 [==============================] - 29s 773ms/step - loss: 0.3642 - accuracy: 0.8799 - val_loss: 1.0142 - val_accuracy: 0.8021\n",
      "Epoch 3/25\n",
      "37/37 [==============================] - 30s 806ms/step - loss: 0.3475 - accuracy: 0.8971 - val_loss: 1.2807 - val_accuracy: 0.6979\n",
      "Epoch 4/25\n",
      "37/37 [==============================] - 32s 855ms/step - loss: 0.3291 - accuracy: 0.8902 - val_loss: 0.9798 - val_accuracy: 0.8333\n",
      "Epoch 5/25\n",
      "37/37 [==============================] - 30s 799ms/step - loss: 0.3090 - accuracy: 0.8980 - val_loss: 1.2801 - val_accuracy: 0.6979\n",
      "Epoch 6/25\n",
      "37/37 [==============================] - 31s 825ms/step - loss: 0.2818 - accuracy: 0.9029 - val_loss: 1.2573 - val_accuracy: 0.7917\n",
      "Epoch 7/25\n",
      "37/37 [==============================] - 30s 812ms/step - loss: 0.2839 - accuracy: 0.9170 - val_loss: 1.1976 - val_accuracy: 0.8021\n",
      "Epoch 8/25\n",
      "37/37 [==============================] - 31s 824ms/step - loss: 0.2955 - accuracy: 0.8970 - val_loss: 0.8987 - val_accuracy: 0.8229\n",
      "Epoch 9/25\n",
      "37/37 [==============================] - 31s 869ms/step - loss: 0.2759 - accuracy: 0.9118 - val_loss: 1.3101 - val_accuracy: 0.7917\n",
      "Epoch 10/25\n",
      "37/37 [==============================] - 33s 890ms/step - loss: 0.2575 - accuracy: 0.9153 - val_loss: 1.3132 - val_accuracy: 0.7812\n",
      "Epoch 11/25\n",
      "37/37 [==============================] - 34s 906ms/step - loss: 0.2555 - accuracy: 0.9122 - val_loss: 1.1960 - val_accuracy: 0.7812\n",
      "Epoch 12/25\n",
      "37/37 [==============================] - 33s 893ms/step - loss: 0.2243 - accuracy: 0.9265 - val_loss: 1.6957 - val_accuracy: 0.7083\n",
      "Epoch 13/25\n",
      "37/37 [==============================] - 36s 968ms/step - loss: 0.2099 - accuracy: 0.9352 - val_loss: 1.5473 - val_accuracy: 0.8125\n",
      "Epoch 14/25\n",
      "37/37 [==============================] - 34s 915ms/step - loss: 0.2266 - accuracy: 0.9205 - val_loss: 0.9906 - val_accuracy: 0.8438\n",
      "Epoch 15/25\n",
      "37/37 [==============================] - 36s 971ms/step - loss: 0.2000 - accuracy: 0.9386 - val_loss: 1.6363 - val_accuracy: 0.8021\n",
      "Epoch 16/25\n",
      "37/37 [==============================] - 35s 932ms/step - loss: 0.2043 - accuracy: 0.9282 - val_loss: 1.9841 - val_accuracy: 0.6875\n",
      "Epoch 17/25\n",
      "37/37 [==============================] - 33s 885ms/step - loss: 0.2217 - accuracy: 0.9300 - val_loss: 1.4980 - val_accuracy: 0.7396\n",
      "Epoch 18/25\n",
      "37/37 [==============================] - 32s 875ms/step - loss: 0.2620 - accuracy: 0.9110 - val_loss: 1.3281 - val_accuracy: 0.7292\n",
      "Epoch 19/25\n",
      "37/37 [==============================] - 33s 882ms/step - loss: 0.2016 - accuracy: 0.9283 - val_loss: 1.5442 - val_accuracy: 0.7812\n",
      "Epoch 20/25\n",
      "37/37 [==============================] - 35s 948ms/step - loss: 0.1868 - accuracy: 0.9392 - val_loss: 1.7065 - val_accuracy: 0.7708\n",
      "Epoch 21/25\n",
      "37/37 [==============================] - 33s 900ms/step - loss: 0.1923 - accuracy: 0.9395 - val_loss: 1.8089 - val_accuracy: 0.8021\n",
      "Epoch 22/25\n",
      "37/37 [==============================] - 34s 928ms/step - loss: 0.1543 - accuracy: 0.9473 - val_loss: 1.4215 - val_accuracy: 0.8438\n",
      "Epoch 23/25\n",
      "37/37 [==============================] - 33s 897ms/step - loss: 0.1772 - accuracy: 0.9438 - val_loss: 1.1423 - val_accuracy: 0.8125\n",
      "Epoch 24/25\n",
      "37/37 [==============================] - 34s 930ms/step - loss: 0.1651 - accuracy: 0.9464 - val_loss: 0.8615 - val_accuracy: 0.8229\n",
      "Epoch 25/25\n",
      "37/37 [==============================] - 36s 967ms/step - loss: 0.1773 - accuracy: 0.9527 - val_loss: 1.5459 - val_accuracy: 0.7812\n"
     ]
    },
    {
     "data": {
      "text/plain": [
       "<keras.callbacks.History at 0x288a993f760>"
      ]
     },
     "execution_count": 24,
     "metadata": {},
     "output_type": "execute_result"
    }
   ],
   "source": [
    "# Train the model\n",
    "model.fit(\n",
    "    train_generator,\n",
    "    steps_per_epoch=num_train_samples // batch_size,\n",
    "    epochs=25,  # You can adjust the number of epochs\n",
    "    validation_data=validation_generator,\n",
    "    validation_steps=num_test_samples // batch_size\n",
    ")"
   ]
  }
 ],
 "metadata": {
  "kernelspec": {
   "display_name": "PythonAI",
   "language": "python",
   "name": "python3"
  },
  "language_info": {
   "codemirror_mode": {
    "name": "ipython",
    "version": 3
   },
   "file_extension": ".py",
   "mimetype": "text/x-python",
   "name": "python",
   "nbconvert_exporter": "python",
   "pygments_lexer": "ipython3",
   "version": "3.10.13"
  }
 },
 "nbformat": 4,
 "nbformat_minor": 2
}
